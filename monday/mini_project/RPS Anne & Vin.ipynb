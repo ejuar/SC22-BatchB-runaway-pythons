{
 "cells": [
  {
   "cell_type": "code",
   "execution_count": 20,
   "metadata": {
    "collapsed": false
   },
   "outputs": [
   ],
   "source": [
    "import random\n",
    "\n",
    "# 0- Rock\n",
    "# 1- Paper\n",
    "# 2- Scissors\n",
    "\n",
    "def rps():\n",
    "    compChoice = random.randint(0,2)\n",
    "    print(compChoice)\n",
    "\n",
    "    userChoice = int(input(\"0- Rock\\n1- Paper\\n2- Scissors\\n\"))\n",
    "    while userChoice < 0 or userChoice > 2:\n",
    "        userChoice = int(input(\"Invalid input\\n0- Rock\\n1- Paper\\n2- Scissors\\n\"))\n",
    "\n",
    "    if compChoice == userChoice:\n",
    "        print(\"Tie\")\n",
    "    elif compChoice == 0 and userChoice == 1:\n",
    "        print(\"User wins\")\n",
    "    elif compChoice == 1 and userChoice == 2:\n",
    "        print(\"User wins\")\n",
    "    elif compChoice == 2 and userChoice == 0:\n",
    "        print(\"User wins\")\n",
    "    elif compChoice == 1 and userChoice == 0:\n",
    "        print(\"Computer wins\")\n",
    "    elif compChoice == 2 and userChoice == 1:\n",
    "        print(\"Computer wins\")\n",
    "    elif compChoice == 0 and userChoice == 2:\n",
    "        print(\"Computer wins\")\n",
    "    \n",
    "    play_again = input(\"Would you like to play again? yes or no\")\n",
    "    if play_again.lower() == 'yes':\n",
    "        rps()\n",
    "    else:\n",
    "        print(\"Thanks for playing!\")"
   ]
  },
  {
   "cell_type": "code",
   "execution_count": 21,
   "metadata": {
    "cocalc": {
     "outputs": {
      "1": {
       "name": "input",
       "opts": {
        "password": false,
        "prompt": "0- Rock\n1- Paper\n2- Scissors\n"
       },
       "output_type": "stream",
       "value": "2"
      },
      "3": {
       "name": "input",
       "opts": {
        "password": false,
        "prompt": "Would you like to play again? yes or no"
       },
       "output_type": "stream",
       "value": "yes"
      },
      "5": {
       "name": "input",
       "opts": {
        "password": false,
        "prompt": "0- Rock\n1- Paper\n2- Scissors\n"
       },
       "output_type": "stream",
       "value": "1"
      },
      "7": {
       "name": "input",
       "opts": {
        "password": false,
        "prompt": "Would you like to play again? yes or no"
       },
       "output_type": "stream",
       "value": "no"
      }
     }
    },
    "collapsed": false
   },
   "outputs": [
    {
     "name": "stdout",
     "output_type": "stream",
     "text": [
      "2\n"
     ]
    },
    {
     "name": "stdout",
     "output_type": "stream",
     "text": "0- Rock\n1- Paper\n2- Scissors\n 2"
    },
    {
     "name": "stdout",
     "output_type": "stream",
     "text": [
      "Tie\n"
     ]
    },
    {
     "name": "stdout",
     "output_type": "stream",
     "text": "Would you like to play again? yes or no yes"
    },
    {
     "name": "stdout",
     "output_type": "stream",
     "text": [
      "0\n"
     ]
    },
    {
     "name": "stdout",
     "output_type": "stream",
     "text": "0- Rock\n1- Paper\n2- Scissors\n 1"
    },
    {
     "name": "stdout",
     "output_type": "stream",
     "text": [
      "User wins\n"
     ]
    },
    {
     "name": "stdout",
     "output_type": "stream",
     "text": "Would you like to play again? yes or no no"
    },
    {
     "name": "stdout",
     "output_type": "stream",
     "text": [
      "Thanks for playing!\n"
     ]
    }
   ],
   "source": [
    "rps()"
   ]
  },
  {
   "cell_type": "code",
   "execution_count": 0,
   "metadata": {
    "collapsed": false
   },
   "outputs": [
   ],
   "source": [
   ]
  }
 ],
 "metadata": {
  "kernelspec": {
   "display_name": "Python (ds_env)",
   "language": "python",
   "metadata": {
    "debugger": true
   },
   "name": "ds_env",
   "resource_dir": "/projects/f495fefc-ad07-40d7-85d0-0e5004b08281/.local/share/jupyter/kernels/ds_env"
  }
 },
 "nbformat": 4,
 "nbformat_minor": 4
}