{
 "cells": [
  {
   "cell_type": "code",
   "execution_count": 0,
   "metadata": {
    "collapsed": false
   },
   "outputs": [
   ],
   "source": [
   ]
  },
  {
   "cell_type": "code",
   "execution_count": 0,
   "metadata": {
    "collapsed": false
   },
   "outputs": [
   ],
   "source": [
   ]
  },
  {
   "cell_type": "code",
   "execution_count": 1,
   "metadata": {
    "cocalc": {
     "outputs": {
      "0": {
       "name": "input",
       "opts": {
        "password": false,
        "prompt": "Rock, Paper, or Scissor: "
       },
       "output_type": "stream",
       "value": "rock"
      },
      "2": {
       "name": "input",
       "opts": {
        "password": false,
        "prompt": "Rock, Paper, or Scissor: "
       },
       "output_type": "stream",
       "value": "stop"
      }
     }
    },
    "collapsed": false
   },
   "outputs": [
    {
     "name": "stdout",
     "output_type": "stream",
     "text": "Rock, Paper, or Scissor:  rock"
    },
    {
     "name": "stdout",
     "output_type": "stream",
     "text": [
      "Computer Picked: paper\n",
      "Lose\n"
     ]
    },
    {
     "name": "stdout",
     "output_type": "stream",
     "text": "Rock, Paper, or Scissor:  stop"
    },
    {
     "name": "stdout",
     "output_type": "stream",
     "text": [
      "Game Over\n"
     ]
    }
   ],
   "source": [
    "import random\n",
    "user = \"start\"\n",
    "\n",
    "list = [\"rock\", \"paper\", \"scissor\"]\n",
    "\n",
    "while(user != \"stop\"):\n",
    "    user = input(\"Rock, Paper, or Scissor: \").lower()\n",
    "    if(user == \"stop\"):\n",
    "        break\n",
    "    if(list.count(user) == 0):\n",
    "        print(\"Invalid\")\n",
    "        continue\n",
    "    comp = random.choice(list)\n",
    "    print(\"Computer Picked: \" + comp)\n",
    "\n",
    "    if(user == comp):\n",
    "        print(\"tie\")\n",
    "    elif((user == list[0]) and (comp == list[2])):\n",
    "        print(\"You Win\")\n",
    "    elif((user == list[0]) and (comp == list[1])):\n",
    "        print(\"You Lost\")\n",
    "    elif((user == list[1]) and (comp == list[2])):\n",
    "        print(\"You Lost\")\n",
    "    elif((user == list[1]) and (comp == list[0])):\n",
    "        print(\"You Win\")\n",
    "    elif((user == list[2]) and (comp == list[1])):\n",
    "        print(\"You Win\")\n",
    "    elif((user == list[2]) and (comp == list[0])):\n",
    "        print(\"You Lost\")\n",
    "\n",
    "print(\"Game Over\")"
   ]
  },
  {
   "cell_type": "code",
   "execution_count": 0,
   "metadata": {
    "collapsed": false
   },
   "outputs": [
   ],
   "source": [
   ]
  }
 ],
 "metadata": {
  "kernelspec": {
   "display_name": "Python (ds_env)",
   "language": "python",
   "metadata": {
    "debugger": true
   },
   "name": "ds_env",
   "resource_dir": "/projects/f495fefc-ad07-40d7-85d0-0e5004b08281/.local/share/jupyter/kernels/ds_env"
  },
  "language_info": {
   "codemirror_mode": {
    "name": "ipython",
    "version": 3
   },
   "file_extension": ".py",
   "mimetype": "text/x-python",
   "name": "python",
   "nbconvert_exporter": "python",
   "pygments_lexer": "ipython3",
   "version": "3.8.13"
  }
 },
 "nbformat": 4,
 "nbformat_minor": 4
}