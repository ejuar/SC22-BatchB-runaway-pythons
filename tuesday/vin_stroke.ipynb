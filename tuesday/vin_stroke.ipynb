{
 "cells": [
  {
   "cell_type": "code",
   "execution_count": 2,
   "metadata": {
    "collapsed": false
   },
   "outputs": [
   ],
   "source": [
    "import pandas as pd"
   ]
  },
  {
   "cell_type": "code",
   "execution_count": 3,
   "metadata": {
    "collapsed": false
   },
   "outputs": [
   ],
   "source": [
    "stroke_df = pd.read_csv('data/stroke.csv', sep=';')"
   ]
  },
  {
   "cell_type": "code",
   "execution_count": 4,
   "metadata": {
    "collapsed": false
   },
   "outputs": [
    {
     "name": "stdout",
     "output_type": "stream",
     "text": [
      "<class 'pandas.core.frame.DataFrame'>\n",
      "RangeIndex: 28980 entries, 0 to 28979\n",
      "Data columns (total 14 columns):\n",
      " #   Column         Non-Null Count  Dtype \n",
      "---  ------         --------------  ----- \n",
      " 0   Fyear          28980 non-null  object\n",
      " 1   Org_type       28980 non-null  object\n",
      " 2   Code           28980 non-null  object\n",
      " 3   sex            28980 non-null  object\n",
      " 4   ONSCode        11130 non-null  object\n",
      " 5   Org_title      28980 non-null  object\n",
      " 6   Denominator    28980 non-null  object\n",
      " 7   Numerator      28980 non-null  object\n",
      " 8   ExpectedValue  28980 non-null  object\n",
      " 9   ISR            28980 non-null  object\n",
      " 10  LowerLimit95   28980 non-null  object\n",
      " 11  UpperLimit95   28980 non-null  object\n",
      " 12  LowerLimit998  28980 non-null  object\n",
      " 13  UpperLimit998  28980 non-null  object\n",
      "dtypes: object(14)\n",
      "memory usage: 3.1+ MB\n"
     ]
    }
   ],
   "source": [
    "stroke_df.info()"
   ]
  },
  {
   "cell_type": "code",
   "execution_count": 7,
   "metadata": {
    "collapsed": false
   },
   "outputs": [
    {
     "data": {
      "text/html": [
       "<div>\n",
       "<style scoped>\n",
       "    .dataframe tbody tr th:only-of-type {\n",
       "        vertical-align: middle;\n",
       "    }\n",
       "\n",
       "    .dataframe tbody tr th {\n",
       "        vertical-align: top;\n",
       "    }\n",
       "\n",
       "    .dataframe thead th {\n",
       "        text-align: right;\n",
       "    }\n",
       "</style>\n",
       "<table border=\"1\" class=\"dataframe\">\n",
       "  <thead>\n",
       "    <tr style=\"text-align: right;\">\n",
       "      <th></th>\n",
       "      <th>Fyear</th>\n",
       "      <th>Org_type</th>\n",
       "      <th>Code</th>\n",
       "      <th>sex</th>\n",
       "      <th>ONSCode</th>\n",
       "      <th>Org_title</th>\n",
       "      <th>Denominator</th>\n",
       "      <th>Numerator</th>\n",
       "      <th>ExpectedValue</th>\n",
       "      <th>ISR</th>\n",
       "      <th>LowerLimit95</th>\n",
       "      <th>UpperLimit95</th>\n",
       "      <th>LowerLimit998</th>\n",
       "      <th>UpperLimit998</th>\n",
       "    </tr>\n",
       "  </thead>\n",
       "  <tbody>\n",
       "    <tr>\n",
       "      <th>0</th>\n",
       "      <td>2014/15</td>\n",
       "      <td>National</td>\n",
       "      <td>O00</td>\n",
       "      <td>F</td>\n",
       "      <td>E92000001</td>\n",
       "      <td>ENGLAND</td>\n",
       "      <td>34765</td>\n",
       "      <td>6552</td>\n",
       "      <td>6967.44</td>\n",
       "      <td>16922.52</td>\n",
       "      <td>16515.21</td>\n",
       "      <td>17337.34</td>\n",
       "      <td>16283.82</td>\n",
       "      <td>17578.57</td>\n",
       "    </tr>\n",
       "    <tr>\n",
       "      <th>1</th>\n",
       "      <td>2014/15</td>\n",
       "      <td>National</td>\n",
       "      <td>O00</td>\n",
       "      <td>M</td>\n",
       "      <td>E92000001</td>\n",
       "      <td>ENGLAND</td>\n",
       "      <td>35778</td>\n",
       "      <td>4696</td>\n",
       "      <td>5719.61</td>\n",
       "      <td>14774.94</td>\n",
       "      <td>14355.34</td>\n",
       "      <td>15203.69</td>\n",
       "      <td>14117.62</td>\n",
       "      <td>15453.41</td>\n",
       "    </tr>\n",
       "    <tr>\n",
       "      <th>2</th>\n",
       "      <td>2014/15</td>\n",
       "      <td>National</td>\n",
       "      <td>O00</td>\n",
       "      <td>P</td>\n",
       "      <td>E92000001</td>\n",
       "      <td>ENGLAND</td>\n",
       "      <td>70543</td>\n",
       "      <td>11248</td>\n",
       "      <td>12657.67</td>\n",
       "      <td>15991.38</td>\n",
       "      <td>15697.19</td>\n",
       "      <td>16289.69</td>\n",
       "      <td>15529.48</td>\n",
       "      <td>16462.82</td>\n",
       "    </tr>\n",
       "    <tr>\n",
       "      <th>3</th>\n",
       "      <td>2014/15</td>\n",
       "      <td>Region of residence</td>\n",
       "      <td>A</td>\n",
       "      <td>F</td>\n",
       "      <td>E12000001</td>\n",
       "      <td>NORTH EAST</td>\n",
       "      <td>2249</td>\n",
       "      <td>351</td>\n",
       "      <td>417.27</td>\n",
       "      <td>15137.39</td>\n",
       "      <td>13594.96</td>\n",
       "      <td>16806.88</td>\n",
       "      <td>12762.52</td>\n",
       "      <td>17804.67</td>\n",
       "    </tr>\n",
       "    <tr>\n",
       "      <th>4</th>\n",
       "      <td>2014/15</td>\n",
       "      <td>Region of residence</td>\n",
       "      <td>A</td>\n",
       "      <td>M</td>\n",
       "      <td>E12000001</td>\n",
       "      <td>NORTH EAST</td>\n",
       "      <td>2280</td>\n",
       "      <td>265</td>\n",
       "      <td>356.18</td>\n",
       "      <td>13388.85</td>\n",
       "      <td>11825.13</td>\n",
       "      <td>15101.81</td>\n",
       "      <td>10989.91</td>\n",
       "      <td>16130.94</td>\n",
       "    </tr>\n",
       "  </tbody>\n",
       "</table>\n",
       "</div>"
      ],
      "text/plain": [
       "     Fyear             Org_type Code sex    ONSCode   Org_title Denominator  \\\n",
       "0  2014/15             National  O00   F  E92000001     ENGLAND       34765   \n",
       "1  2014/15             National  O00   M  E92000001     ENGLAND       35778   \n",
       "2  2014/15             National  O00   P  E92000001     ENGLAND       70543   \n",
       "3  2014/15  Region of residence    A   F  E12000001  NORTH EAST        2249   \n",
       "4  2014/15  Region of residence    A   M  E12000001  NORTH EAST        2280   \n",
       "\n",
       "  Numerator ExpectedValue       ISR LowerLimit95 UpperLimit95 LowerLimit998  \\\n",
       "0      6552       6967.44  16922.52     16515.21     17337.34      16283.82   \n",
       "1      4696       5719.61  14774.94     14355.34     15203.69      14117.62   \n",
       "2     11248      12657.67  15991.38     15697.19     16289.69      15529.48   \n",
       "3       351        417.27  15137.39     13594.96     16806.88      12762.52   \n",
       "4       265        356.18  13388.85     11825.13     15101.81      10989.91   \n",
       "\n",
       "  UpperLimit998  \n",
       "0      17578.57  \n",
       "1      15453.41  \n",
       "2      16462.82  \n",
       "3      17804.67  \n",
       "4      16130.94  "
      ]
     },
     "execution_count": 7,
     "metadata": {
     },
     "output_type": "execute_result"
    }
   ],
   "source": [
    "stroke_df.head(5)"
   ]
  },
  {
   "cell_type": "code",
   "execution_count": 11,
   "metadata": {
    "collapsed": false
   },
   "outputs": [
    {
     "data": {
      "text/plain": [
       "E12000007    60\n",
       "E92000001    30\n",
       "E07000134    30\n",
       "E07000143    30\n",
       "E07000142    30\n",
       "             ..\n",
       "E06000035    30\n",
       "E06000034    30\n",
       "E06000033    30\n",
       "E06000056    30\n",
       "E13000002    30\n",
       "Name: ONSCode, Length: 370, dtype: int64"
      ]
     },
     "execution_count": 11,
     "metadata": {
     },
     "output_type": "execute_result"
    }
   ],
   "source": [
    "stroke_df[\"ONSCode\"].value_counts()"
   ]
  },
  {
   "cell_type": "code",
   "execution_count": 0,
   "metadata": {
    "collapsed": false
   },
   "outputs": [
   ],
   "source": [
   ]
  }
 ],
 "metadata": {
  "kernelspec": {
   "display_name": "Python (ds_env)",
   "language": "python",
   "metadata": {
    "debugger": true
   },
   "name": "ds_env",
   "resource_dir": "/projects/f495fefc-ad07-40d7-85d0-0e5004b08281/.local/share/jupyter/kernels/ds_env"
  },
  "language_info": {
   "codemirror_mode": {
    "name": "ipython",
    "version": 3
   },
   "file_extension": ".py",
   "mimetype": "text/x-python",
   "name": "python",
   "nbconvert_exporter": "python",
   "pygments_lexer": "ipython3",
   "version": "3.8.13"
  }
 },
 "nbformat": 4,
 "nbformat_minor": 4
}