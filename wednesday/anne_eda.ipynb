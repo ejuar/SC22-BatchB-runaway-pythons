{
 "cells": [
  {
   "cell_type": "markdown",
   "metadata": {
    "collapsed": false
   },
   "source": [
    "- Which trait\\(s\\) is the year produced most heavily correlated with?\n",
    "  - Helps answer: Is it just the car's age that makes it less valuable or is it these other traits?\n",
    "- Do factors that do/don't affect the car's performance \\(like mileage vs. color\\) affect its price?\n",
    "  - Somewhat related: Are the more expensive cars all at a certain location?\n",
    "\n"
   ]
  },
  {
   "cell_type": "code",
   "execution_count": 1,
   "metadata": {
    "collapsed": false
   },
   "outputs": [
   ],
   "source": [
    "import pandas as pd"
   ]
  },
  {
   "cell_type": "code",
   "execution_count": 2,
   "metadata": {
    "collapsed": false
   },
   "outputs": [
   ],
   "source": [
    "car_df = pd.read_csv(\"data/car_data.csv\")"
   ]
  },
  {
   "cell_type": "code",
   "execution_count": 3,
   "metadata": {
    "collapsed": false
   },
   "outputs": [
   ],
   "source": [
    "car_df.drop([\"feature_0\",\"feature_1\",\"feature_2\",\"feature_3\",\"feature_4\",\"feature_5\",\"feature_6\",\"feature_7\",\"feature_8\",\"feature_9\"], axis=1, inplace=True)"
   ]
  },
  {
   "cell_type": "code",
   "execution_count": 4,
   "metadata": {
    "collapsed": false
   },
   "outputs": [
    {
     "name": "stdout",
     "output_type": "stream",
     "text": [
      "<class 'pandas.core.frame.DataFrame'>\n",
      "RangeIndex: 38531 entries, 0 to 38530\n",
      "Data columns (total 20 columns):\n",
      " #   Column             Non-Null Count  Dtype  \n",
      "---  ------             --------------  -----  \n",
      " 0   manufacturer_name  38531 non-null  object \n",
      " 1   model_name         38531 non-null  object \n",
      " 2   transmission       38531 non-null  object \n",
      " 3   color              38531 non-null  object \n",
      " 4   odometer_value     38531 non-null  int64  \n",
      " 5   year_produced      38531 non-null  int64  \n",
      " 6   engine_fuel        38531 non-null  object \n",
      " 7   engine_has_gas     38531 non-null  bool   \n",
      " 8   engine_type        38531 non-null  object \n",
      " 9   engine_capacity    38521 non-null  float64\n",
      " 10  body_type          38531 non-null  object \n",
      " 11  has_warranty       38531 non-null  bool   \n",
      " 12  state              38531 non-null  object \n",
      " 13  drivetrain         38531 non-null  object \n",
      " 14  price_usd          38531 non-null  float64\n",
      " 15  is_exchangeable    38531 non-null  bool   \n",
      " 16  location_region    38531 non-null  object \n",
      " 17  number_of_photos   38531 non-null  int64  \n",
      " 18  up_counter         38531 non-null  int64  \n",
      " 19  duration_listed    38531 non-null  int64  \n",
      "dtypes: bool(3), float64(2), int64(5), object(10)\n",
      "memory usage: 5.1+ MB\n"
     ]
    }
   ],
   "source": [
    "car_df.info()"
   ]
  },
  {
   "cell_type": "code",
   "execution_count": 4,
   "metadata": {
    "collapsed": false
   },
   "outputs": [
    {
     "data": {
      "text/plain": [
       "Volkswagen       4243\n",
       "Opel             2759\n",
       "BMW              2610\n",
       "Ford             2566\n",
       "Renault          2493\n",
       "Audi             2468\n",
       "Mercedes-Benz    2237\n",
       "Peugeot          1909\n",
       "Citroen          1562\n",
       "Nissan           1361\n",
       "Mazda            1328\n",
       "Toyota           1246\n",
       "Hyundai          1116\n",
       "Skoda            1089\n",
       "Kia               912\n",
       "Mitsubishi        887\n",
       "Fiat              824\n",
       "Honda             797\n",
       "Volvo             721\n",
       "ВАЗ               481\n",
       "Chevrolet         436\n",
       "Chrysler          410\n",
       "Seat              303\n",
       "Dodge             297\n",
       "Subaru            291\n",
       "Rover             235\n",
       "Suzuki            234\n",
       "Daewoo            221\n",
       "Lexus             213\n",
       "Alfa Romeo        207\n",
       "ГАЗ               200\n",
       "Land Rover        184\n",
       "Infiniti          162\n",
       "LADA              146\n",
       "Iveco             139\n",
       "Saab              108\n",
       "Jeep              107\n",
       "Lancia             92\n",
       "SsangYong          79\n",
       "УАЗ                74\n",
       "Geely              71\n",
       "Mini               68\n",
       "Acura              66\n",
       "Porsche            61\n",
       "Dacia              59\n",
       "Chery              58\n",
       "Москвич            55\n",
       "Jaguar             53\n",
       "Buick              47\n",
       "Lifan              47\n",
       "Cadillac           43\n",
       "Pontiac            42\n",
       "ЗАЗ                42\n",
       "Lincoln            36\n",
       "Great Wall         36\n",
       "Name: manufacturer_name, dtype: int64"
      ]
     },
     "execution_count": 4,
     "metadata": {
     },
     "output_type": "execute_result"
    }
   ],
   "source": [
    "car_df[\"manufacturer_name\"].value_counts()"
   ]
  },
  {
   "cell_type": "code",
   "execution_count": 9,
   "metadata": {
    "collapsed": false
   },
   "outputs": [
    {
     "data": {
      "text/html": [
       "<div>\n",
       "<style scoped>\n",
       "    .dataframe tbody tr th:only-of-type {\n",
       "        vertical-align: middle;\n",
       "    }\n",
       "\n",
       "    .dataframe tbody tr th {\n",
       "        vertical-align: top;\n",
       "    }\n",
       "\n",
       "    .dataframe thead th {\n",
       "        text-align: right;\n",
       "    }\n",
       "</style>\n",
       "<table border=\"1\" class=\"dataframe\">\n",
       "  <thead>\n",
       "    <tr style=\"text-align: right;\">\n",
       "      <th></th>\n",
       "      <th>manufacturer_name</th>\n",
       "      <th>model_name</th>\n",
       "      <th>transmission</th>\n",
       "      <th>color</th>\n",
       "      <th>odometer_value</th>\n",
       "      <th>year_produced</th>\n",
       "      <th>engine_fuel</th>\n",
       "      <th>engine_has_gas</th>\n",
       "      <th>engine_type</th>\n",
       "      <th>engine_capacity</th>\n",
       "      <th>body_type</th>\n",
       "      <th>has_warranty</th>\n",
       "      <th>state</th>\n",
       "      <th>drivetrain</th>\n",
       "      <th>price_usd</th>\n",
       "      <th>is_exchangeable</th>\n",
       "      <th>location_region</th>\n",
       "      <th>number_of_photos</th>\n",
       "      <th>up_counter</th>\n",
       "      <th>duration_listed</th>\n",
       "    </tr>\n",
       "  </thead>\n",
       "  <tbody>\n",
       "    <tr>\n",
       "      <th>7691</th>\n",
       "      <td>Jaguar</td>\n",
       "      <td>F-Type</td>\n",
       "      <td>automatic</td>\n",
       "      <td>red</td>\n",
       "      <td>64075</td>\n",
       "      <td>2013</td>\n",
       "      <td>gasoline</td>\n",
       "      <td>False</td>\n",
       "      <td>gasoline</td>\n",
       "      <td>3.0</td>\n",
       "      <td>coupe</td>\n",
       "      <td>False</td>\n",
       "      <td>owned</td>\n",
       "      <td>rear</td>\n",
       "      <td>50000.0</td>\n",
       "      <td>True</td>\n",
       "      <td>Минская обл.</td>\n",
       "      <td>19</td>\n",
       "      <td>12</td>\n",
       "      <td>15</td>\n",
       "    </tr>\n",
       "    <tr>\n",
       "      <th>29297</th>\n",
       "      <td>BMW</td>\n",
       "      <td>X6</td>\n",
       "      <td>automatic</td>\n",
       "      <td>grey</td>\n",
       "      <td>59000</td>\n",
       "      <td>2015</td>\n",
       "      <td>diesel</td>\n",
       "      <td>False</td>\n",
       "      <td>diesel</td>\n",
       "      <td>3.0</td>\n",
       "      <td>suv</td>\n",
       "      <td>False</td>\n",
       "      <td>owned</td>\n",
       "      <td>all</td>\n",
       "      <td>50000.0</td>\n",
       "      <td>True</td>\n",
       "      <td>Минская обл.</td>\n",
       "      <td>31</td>\n",
       "      <td>8</td>\n",
       "      <td>89</td>\n",
       "    </tr>\n",
       "  </tbody>\n",
       "</table>\n",
       "</div>"
      ],
      "text/plain": [
       "      manufacturer_name model_name transmission color  odometer_value  \\\n",
       "7691             Jaguar     F-Type    automatic   red           64075   \n",
       "29297               BMW         X6    automatic  grey           59000   \n",
       "\n",
       "       year_produced engine_fuel  engine_has_gas engine_type  engine_capacity  \\\n",
       "7691            2013    gasoline           False    gasoline              3.0   \n",
       "29297           2015      diesel           False      diesel              3.0   \n",
       "\n",
       "      body_type  has_warranty  state drivetrain  price_usd  is_exchangeable  \\\n",
       "7691      coupe         False  owned       rear    50000.0             True   \n",
       "29297       suv         False  owned        all    50000.0             True   \n",
       "\n",
       "      location_region  number_of_photos  up_counter  duration_listed  \n",
       "7691     Минская обл.                19          12               15  \n",
       "29297    Минская обл.                31           8               89  "
      ]
     },
     "execution_count": 9,
     "metadata": {
     },
     "output_type": "execute_result"
    }
   ],
   "source": [
    "expensive = max(car_df[\"price_usd\"])\n",
    "car_df[car_df[\"price_usd\"] == expensive].head()"
   ]
  },
  {
   "cell_type": "code",
   "execution_count": 10,
   "metadata": {
    "collapsed": false
   },
   "outputs": [
    {
     "data": {
      "text/html": [
       "<div>\n",
       "<style scoped>\n",
       "    .dataframe tbody tr th:only-of-type {\n",
       "        vertical-align: middle;\n",
       "    }\n",
       "\n",
       "    .dataframe tbody tr th {\n",
       "        vertical-align: top;\n",
       "    }\n",
       "\n",
       "    .dataframe thead th {\n",
       "        text-align: right;\n",
       "    }\n",
       "</style>\n",
       "<table border=\"1\" class=\"dataframe\">\n",
       "  <thead>\n",
       "    <tr style=\"text-align: right;\">\n",
       "      <th></th>\n",
       "      <th>manufacturer_name</th>\n",
       "      <th>model_name</th>\n",
       "      <th>transmission</th>\n",
       "      <th>color</th>\n",
       "      <th>odometer_value</th>\n",
       "      <th>year_produced</th>\n",
       "      <th>engine_fuel</th>\n",
       "      <th>engine_has_gas</th>\n",
       "      <th>engine_type</th>\n",
       "      <th>engine_capacity</th>\n",
       "      <th>body_type</th>\n",
       "      <th>has_warranty</th>\n",
       "      <th>state</th>\n",
       "      <th>drivetrain</th>\n",
       "      <th>price_usd</th>\n",
       "      <th>is_exchangeable</th>\n",
       "      <th>location_region</th>\n",
       "      <th>number_of_photos</th>\n",
       "      <th>up_counter</th>\n",
       "      <th>duration_listed</th>\n",
       "    </tr>\n",
       "  </thead>\n",
       "  <tbody>\n",
       "    <tr>\n",
       "      <th>8230</th>\n",
       "      <td>ВАЗ</td>\n",
       "      <td>2105</td>\n",
       "      <td>mechanical</td>\n",
       "      <td>red</td>\n",
       "      <td>999999</td>\n",
       "      <td>1991</td>\n",
       "      <td>gasoline</td>\n",
       "      <td>False</td>\n",
       "      <td>gasoline</td>\n",
       "      <td>1.2</td>\n",
       "      <td>sedan</td>\n",
       "      <td>False</td>\n",
       "      <td>owned</td>\n",
       "      <td>rear</td>\n",
       "      <td>1.0</td>\n",
       "      <td>False</td>\n",
       "      <td>Гродненская обл.</td>\n",
       "      <td>8</td>\n",
       "      <td>1</td>\n",
       "      <td>1</td>\n",
       "    </tr>\n",
       "    <tr>\n",
       "      <th>8770</th>\n",
       "      <td>Fiat</td>\n",
       "      <td>Palio</td>\n",
       "      <td>mechanical</td>\n",
       "      <td>red</td>\n",
       "      <td>260000</td>\n",
       "      <td>1998</td>\n",
       "      <td>gasoline</td>\n",
       "      <td>False</td>\n",
       "      <td>gasoline</td>\n",
       "      <td>1.6</td>\n",
       "      <td>universal</td>\n",
       "      <td>False</td>\n",
       "      <td>emergency</td>\n",
       "      <td>front</td>\n",
       "      <td>1.0</td>\n",
       "      <td>False</td>\n",
       "      <td>Минская обл.</td>\n",
       "      <td>2</td>\n",
       "      <td>2</td>\n",
       "      <td>2</td>\n",
       "    </tr>\n",
       "    <tr>\n",
       "      <th>16406</th>\n",
       "      <td>Volkswagen</td>\n",
       "      <td>T4 Caravelle</td>\n",
       "      <td>mechanical</td>\n",
       "      <td>white</td>\n",
       "      <td>1</td>\n",
       "      <td>1995</td>\n",
       "      <td>diesel</td>\n",
       "      <td>False</td>\n",
       "      <td>diesel</td>\n",
       "      <td>2.4</td>\n",
       "      <td>minibus</td>\n",
       "      <td>False</td>\n",
       "      <td>owned</td>\n",
       "      <td>front</td>\n",
       "      <td>1.0</td>\n",
       "      <td>False</td>\n",
       "      <td>Минская обл.</td>\n",
       "      <td>6</td>\n",
       "      <td>1</td>\n",
       "      <td>3</td>\n",
       "    </tr>\n",
       "    <tr>\n",
       "      <th>30149</th>\n",
       "      <td>Mazda</td>\n",
       "      <td>626</td>\n",
       "      <td>mechanical</td>\n",
       "      <td>black</td>\n",
       "      <td>300000</td>\n",
       "      <td>1987</td>\n",
       "      <td>gasoline</td>\n",
       "      <td>False</td>\n",
       "      <td>gasoline</td>\n",
       "      <td>2.0</td>\n",
       "      <td>coupe</td>\n",
       "      <td>False</td>\n",
       "      <td>owned</td>\n",
       "      <td>front</td>\n",
       "      <td>1.0</td>\n",
       "      <td>True</td>\n",
       "      <td>Минская обл.</td>\n",
       "      <td>5</td>\n",
       "      <td>1</td>\n",
       "      <td>0</td>\n",
       "    </tr>\n",
       "    <tr>\n",
       "      <th>36634</th>\n",
       "      <td>Peugeot</td>\n",
       "      <td>406</td>\n",
       "      <td>mechanical</td>\n",
       "      <td>blue</td>\n",
       "      <td>200000</td>\n",
       "      <td>1997</td>\n",
       "      <td>gasoline</td>\n",
       "      <td>False</td>\n",
       "      <td>gasoline</td>\n",
       "      <td>1.6</td>\n",
       "      <td>sedan</td>\n",
       "      <td>False</td>\n",
       "      <td>emergency</td>\n",
       "      <td>front</td>\n",
       "      <td>1.0</td>\n",
       "      <td>False</td>\n",
       "      <td>Минская обл.</td>\n",
       "      <td>1</td>\n",
       "      <td>1</td>\n",
       "      <td>1</td>\n",
       "    </tr>\n",
       "  </tbody>\n",
       "</table>\n",
       "</div>"
      ],
      "text/plain": [
       "      manufacturer_name    model_name transmission  color  odometer_value  \\\n",
       "8230                ВАЗ          2105   mechanical    red          999999   \n",
       "8770               Fiat         Palio   mechanical    red          260000   \n",
       "16406        Volkswagen  T4 Caravelle   mechanical  white               1   \n",
       "30149             Mazda           626   mechanical  black          300000   \n",
       "36634           Peugeot           406   mechanical   blue          200000   \n",
       "\n",
       "       year_produced engine_fuel  engine_has_gas engine_type  engine_capacity  \\\n",
       "8230            1991    gasoline           False    gasoline              1.2   \n",
       "8770            1998    gasoline           False    gasoline              1.6   \n",
       "16406           1995      diesel           False      diesel              2.4   \n",
       "30149           1987    gasoline           False    gasoline              2.0   \n",
       "36634           1997    gasoline           False    gasoline              1.6   \n",
       "\n",
       "       body_type  has_warranty      state drivetrain  price_usd  \\\n",
       "8230       sedan         False      owned       rear        1.0   \n",
       "8770   universal         False  emergency      front        1.0   \n",
       "16406    minibus         False      owned      front        1.0   \n",
       "30149      coupe         False      owned      front        1.0   \n",
       "36634      sedan         False  emergency      front        1.0   \n",
       "\n",
       "       is_exchangeable   location_region  number_of_photos  up_counter  \\\n",
       "8230             False  Гродненская обл.                 8           1   \n",
       "8770             False      Минская обл.                 2           2   \n",
       "16406            False      Минская обл.                 6           1   \n",
       "30149             True      Минская обл.                 5           1   \n",
       "36634            False      Минская обл.                 1           1   \n",
       "\n",
       "       duration_listed  \n",
       "8230                 1  \n",
       "8770                 2  \n",
       "16406                3  \n",
       "30149                0  \n",
       "36634                1  "
      ]
     },
     "execution_count": 10,
     "metadata": {
     },
     "output_type": "execute_result"
    }
   ],
   "source": [
    "cheapest = min(car_df[\"price_usd\"])\n",
    "car_df[car_df[\"price_usd\"] == cheapest].head()"
   ]
  },
  {
   "cell_type": "markdown",
   "metadata": {
    "collapsed": false
   },
   "source": [
    "Out of the cars listed, cheaper cars are shown to have mechanical transmission, higher odometer value \\(with one exception\\), older production year, smaller engine capacity, fewer photos, and lower up counter and duration listed.\n"
   ]
  },
  {
   "cell_type": "code",
   "execution_count": 11,
   "metadata": {
    "collapsed": false
   },
   "outputs": [
    {
     "data": {
      "text/plain": [
       "mechanical    25633\n",
       "automatic     12898\n",
       "Name: transmission, dtype: int64"
      ]
     },
     "execution_count": 11,
     "metadata": {
     },
     "output_type": "execute_result"
    }
   ],
   "source": [
    "car_df[\"transmission\"].value_counts()"
   ]
  },
  {
   "cell_type": "code",
   "execution_count": 12,
   "metadata": {
    "collapsed": false
   },
   "outputs": [
    {
     "data": {
      "text/plain": [
       "array([[<AxesSubplot:title={'center':'price_usd'}>]], dtype=object)"
      ]
     },
     "execution_count": 12,
     "metadata": {
     },
     "output_type": "execute_result"
    },
    {
     "data": {
      "image/png": "[encoded data removed]",
      "text/plain": [
       "<Figure size 432x288 with 1 Axes>"
      ]
     },
     "execution_count": 12,
     "metadata": {
      "needs_background": "light"
     },
     "output_type": "execute_result"
    }
   ],
   "source": [
    "car_df[car_df[\"transmission\"] == \"mechanical\"].hist(column=\"price_usd\")"
   ]
  },
  {
   "cell_type": "code",
   "execution_count": 13,
   "metadata": {
    "collapsed": false
   },
   "outputs": [
    {
     "data": {
      "text/plain": [
       "array([[<AxesSubplot:title={'center':'price_usd'}>]], dtype=object)"
      ]
     },
     "execution_count": 13,
     "metadata": {
     },
     "output_type": "execute_result"
    },
    {
     "data": {
      "image/png": "[encoded data removed]",
      "text/plain": [
       "<Figure size 432x288 with 1 Axes>"
      ]
     },
     "execution_count": 13,
     "metadata": {
      "needs_background": "light"
     },
     "output_type": "execute_result"
    }
   ],
   "source": [
    "car_df[car_df[\"transmission\"] == \"automatic\"].hist(column=\"price_usd\")"
   ]
  },
  {
   "cell_type": "code",
   "execution_count": 14,
   "metadata": {
    "collapsed": false
   },
   "outputs": [
    {
     "data": {
      "text/plain": [
       "<AxesSubplot:xlabel='year_produced', ylabel='price_usd'>"
      ]
     },
     "execution_count": 14,
     "metadata": {
     },
     "output_type": "execute_result"
    },
    {
     "data": {
      "image/png": "[encoded data removed]",
      "text/plain": [
       "<Figure size 432x288 with 1 Axes>"
      ]
     },
     "execution_count": 14,
     "metadata": {
      "needs_background": "light"
     },
     "output_type": "execute_result"
    }
   ],
   "source": [
    "car_df.plot.scatter(x=\"year_produced\", y=\"price_usd\")"
   ]
  },
  {
   "cell_type": "code",
   "execution_count": 15,
   "metadata": {
    "collapsed": false
   },
   "outputs": [
    {
     "data": {
      "text/plain": [
       "<AxesSubplot:xlabel='engine_capacity', ylabel='price_usd'>"
      ]
     },
     "execution_count": 15,
     "metadata": {
     },
     "output_type": "execute_result"
    },
    {
     "data": {
      "image/png": "[encoded data removed]",
      "text/plain": [
       "<Figure size 432x288 with 1 Axes>"
      ]
     },
     "execution_count": 15,
     "metadata": {
      "needs_background": "light"
     },
     "output_type": "execute_result"
    }
   ],
   "source": [
    "car_df.plot.scatter(x=\"engine_capacity\", y=\"price_usd\")"
   ]
  },
  {
   "cell_type": "code",
   "execution_count": 16,
   "metadata": {
    "collapsed": false
   },
   "outputs": [
    {
     "data": {
      "text/plain": [
       "<AxesSubplot:xlabel='odometer_value', ylabel='price_usd'>"
      ]
     },
     "execution_count": 16,
     "metadata": {
     },
     "output_type": "execute_result"
    },
    {
     "data": {
      "image/png": "[encoded data removed]",
      "text/plain": [
       "<Figure size 432x288 with 1 Axes>"
      ]
     },
     "execution_count": 16,
     "metadata": {
      "needs_background": "light"
     },
     "output_type": "execute_result"
    }
   ],
   "source": [
    "car_df.plot.scatter(x=\"odometer_value\", y=\"price_usd\")"
   ]
  },
  {
   "cell_type": "code",
   "execution_count": 17,
   "metadata": {
    "collapsed": false
   },
   "outputs": [
    {
     "data": {
      "text/plain": [
       "array([[<AxesSubplot:title={'center':'price_usd'}>]], dtype=object)"
      ]
     },
     "execution_count": 17,
     "metadata": {
     },
     "output_type": "execute_result"
    },
    {
     "data": {
      "image/png": "[encoded data removed]",
      "text/plain": [
       "<Figure size 432x288 with 1 Axes>"
      ]
     },
     "execution_count": 17,
     "metadata": {
      "needs_background": "light"
     },
     "output_type": "execute_result"
    }
   ],
   "source": [
    "car_df[car_df[\"drivetrain\"] == \"front\"].hist(column=\"price_usd\")"
   ]
  },
  {
   "cell_type": "code",
   "execution_count": 21,
   "metadata": {
    "collapsed": false
   },
   "outputs": [
    {
     "data": {
      "text/plain": [
       "rear    5398\n",
       "all     5387\n",
       "Name: drivetrain, dtype: int64"
      ]
     },
     "execution_count": 21,
     "metadata": {
     },
     "output_type": "execute_result"
    }
   ],
   "source": [
    "car_df[(car_df[\"drivetrain\"] == \"rear\") | (car_df[\"drivetrain\"] == \"all\")][\"drivetrain\"].value_counts()"
   ]
  },
  {
   "cell_type": "code",
   "execution_count": 19,
   "metadata": {
    "collapsed": false
   },
   "outputs": [
    {
     "data": {
      "text/plain": [
       "array([[<AxesSubplot:title={'center':'price_usd'}>]], dtype=object)"
      ]
     },
     "execution_count": 19,
     "metadata": {
     },
     "output_type": "execute_result"
    },
    {
     "data": {
      "image/png": "[encoded data removed]",
      "text/plain": [
       "<Figure size 432x288 with 1 Axes>"
      ]
     },
     "execution_count": 19,
     "metadata": {
      "needs_background": "light"
     },
     "output_type": "execute_result"
    }
   ],
   "source": [
    "car_df[(car_df[\"drivetrain\"] == \"rear\") | (car_df[\"drivetrain\"] == \"all\")].hist(column=\"price_usd\")"
   ]
  },
  {
   "cell_type": "code",
   "execution_count": 0,
   "metadata": {
    "collapsed": false
   },
   "outputs": [
   ],
   "source": [
   ]
  }
 ],
 "metadata": {
  "kernelspec": {
   "display_name": "Python (ds_env)",
   "language": "python",
   "metadata": {
    "debugger": true
   },
   "name": "ds_env",
   "resource_dir": "/projects/f495fefc-ad07-40d7-85d0-0e5004b08281/.local/share/jupyter/kernels/ds_env"
  },
  "language_info": {
   "codemirror_mode": {
    "name": "ipython",
    "version": 3
   },
   "file_extension": ".py",
   "mimetype": "text/x-python",
   "name": "python",
   "nbconvert_exporter": "python",
   "pygments_lexer": "ipython3",
   "version": "3.8.13"
  }
 },
 "nbformat": 4,
 "nbformat_minor": 4
}